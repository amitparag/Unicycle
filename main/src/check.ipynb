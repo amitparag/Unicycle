{
 "cells": [
  {
   "cell_type": "code",
   "execution_count": 7,
   "metadata": {},
   "outputs": [],
   "source": [
    "import torch\n",
    "import numpy as np\n",
    "from value_network import ValueNet\n",
    "from residual_network import ResidualNet"
   ]
  },
  {
   "cell_type": "code",
   "execution_count": 8,
   "metadata": {},
   "outputs": [],
   "source": [
    "v = torch.load(\"../networks/value.pth\")\n",
    "r = torch.load(\"../networks/residual.pth\")"
   ]
  },
  {
   "cell_type": "code",
   "execution_count": 9,
   "metadata": {},
   "outputs": [],
   "source": [
    "a = torch.rand((10, 3))"
   ]
  },
  {
   "cell_type": "code",
   "execution_count": 10,
   "metadata": {},
   "outputs": [
    {
     "data": {
      "text/plain": [
       "tensor([[ 4.4492],\n",
       "        [ 4.4418],\n",
       "        [ 0.8669],\n",
       "        [13.8824],\n",
       "        [ 6.6933],\n",
       "        [ 7.5582],\n",
       "        [ 9.6710],\n",
       "        [ 3.6279],\n",
       "        [ 8.0366],\n",
       "        [ 9.9008]], grad_fn=<AddmmBackward>)"
      ]
     },
     "execution_count": 10,
     "metadata": {},
     "output_type": "execute_result"
    }
   ],
   "source": [
    "v(a)"
   ]
  },
  {
   "cell_type": "code",
   "execution_count": 11,
   "metadata": {},
   "outputs": [
    {
     "data": {
      "text/plain": [
       "tensor([[ 4.5405],\n",
       "        [ 4.7892],\n",
       "        [ 0.2938],\n",
       "        [13.9717],\n",
       "        [ 7.2821],\n",
       "        [ 8.1127],\n",
       "        [10.2257],\n",
       "        [ 3.6861],\n",
       "        [ 8.2241],\n",
       "        [10.4557]], grad_fn=<MulBackward0>)"
      ]
     },
     "execution_count": 11,
     "metadata": {},
     "output_type": "execute_result"
    }
   ],
   "source": [
    "r(a)"
   ]
  },
  {
   "cell_type": "code",
   "execution_count": 13,
   "metadata": {},
   "outputs": [
    {
     "data": {
      "text/plain": [
       "tensor([[[ 14.4079,  -5.9015,   6.2042],\n",
       "         [ -5.9015,  22.0087,  -5.3604],\n",
       "         [  6.2042,  -5.3604,  16.6606]],\n",
       "\n",
       "        [[ 14.2956,  -3.0941,   2.0775],\n",
       "         [ -3.0941,  28.5466, -10.5077],\n",
       "         [  2.0775, -10.5077,  21.4808]],\n",
       "\n",
       "        [[  8.1007,  -0.0364,  -1.0680],\n",
       "         [ -0.0364,  18.1228,  -0.3347],\n",
       "         [ -1.0680,  -0.3347,   6.7742]],\n",
       "\n",
       "        [[ 13.1535,  -9.5092,   2.2297],\n",
       "         [ -9.5092,  15.4948, -12.3978],\n",
       "         [  2.2297, -12.3978,  18.5766]],\n",
       "\n",
       "        [[ 17.3324,  -8.2756,   2.8515],\n",
       "         [ -8.2756,  29.9968, -11.5963],\n",
       "         [  2.8515, -11.5963,  18.3448]],\n",
       "\n",
       "        [[ 14.1562,  -4.5469,   3.5034],\n",
       "         [ -4.5469,  28.2919, -13.1454],\n",
       "         [  3.5034, -13.1454,  26.4446]],\n",
       "\n",
       "        [[ 19.9313, -10.2139,   4.1113],\n",
       "         [-10.2139,  27.9903, -14.9174],\n",
       "         [  4.1113, -14.9174,  19.1680]],\n",
       "\n",
       "        [[ 13.9329,  -4.9247,   4.4496],\n",
       "         [ -4.9247,  23.0752,  -5.6474],\n",
       "         [  4.4496,  -5.6474,  17.4747]],\n",
       "\n",
       "        [[ 13.7431,  -5.3008,   5.2043],\n",
       "         [ -5.3008,  23.5716,  -5.3684],\n",
       "         [  5.2043,  -5.3684,  14.7105]],\n",
       "\n",
       "        [[ 20.3505,  -9.8715,   5.4052],\n",
       "         [ -9.8715,  26.2243, -14.0780],\n",
       "         [  5.4052, -14.0780,  19.5423]]])"
      ]
     },
     "execution_count": 13,
     "metadata": {},
     "output_type": "execute_result"
    }
   ],
   "source": [
    "v.batch_hessian(a)"
   ]
  },
  {
   "cell_type": "code",
   "execution_count": 14,
   "metadata": {},
   "outputs": [
    {
     "data": {
      "text/plain": [
       "tensor([[[ 9.0235, -7.1945,  5.0474],\n",
       "         [-7.1945, 35.2500,  2.2604],\n",
       "         [ 5.0474,  2.2604, 20.1921]],\n",
       "\n",
       "        [[ 8.9444, -4.4424,  2.4633],\n",
       "         [-4.4424, 30.0125, -0.1468],\n",
       "         [ 2.4633, -0.1468,  2.7189]],\n",
       "\n",
       "        [[ 9.2757, -0.5883,  3.7652],\n",
       "         [-0.5883, 21.1534, -7.0685],\n",
       "         [ 3.7652, -7.0685, 16.0414]],\n",
       "\n",
       "        [[ 4.1619, -2.4517,  0.4902],\n",
       "         [-2.4517, 23.5315, -4.7040],\n",
       "         [ 0.4902, -4.7040,  6.8499]],\n",
       "\n",
       "        [[ 2.4822, -2.6989, -0.5903],\n",
       "         [-2.6989, 19.6447, -2.9902],\n",
       "         [-0.5903, -2.9902, 14.8432]],\n",
       "\n",
       "        [[ 9.3175, -3.4068,  2.8903],\n",
       "         [-3.4068, 28.9823, -0.9348],\n",
       "         [ 2.8903, -0.9348,  6.0541]],\n",
       "\n",
       "        [[ 1.9412, -1.4174, -2.8329],\n",
       "         [-1.4174, 18.0835, -3.6674],\n",
       "         [-2.8329, -3.6674, 17.6002]],\n",
       "\n",
       "        [[ 7.9196, -6.7908,  4.2251],\n",
       "         [-6.7908, 28.2139, -0.3884],\n",
       "         [ 4.2251, -0.3884,  9.9693]],\n",
       "\n",
       "        [[ 9.3614, -5.6605,  8.9466],\n",
       "         [-5.6605, 36.5324,  4.2218],\n",
       "         [ 8.9466,  4.2218, 27.5919]],\n",
       "\n",
       "        [[ 1.4450, -1.0565, -1.5454],\n",
       "         [-1.0565, 17.7951, -4.7262],\n",
       "         [-1.5454, -4.7262, 19.1199]]])"
      ]
     },
     "execution_count": 14,
     "metadata": {},
     "output_type": "execute_result"
    }
   ],
   "source": [
    "r.batch_approx_hessian(a)"
   ]
  },
  {
   "cell_type": "code",
   "execution_count": 15,
   "metadata": {},
   "outputs": [
    {
     "ename": "AttributeError",
     "evalue": "'ResidualNet' object has no attribute 'hessian_value'",
     "output_type": "error",
     "traceback": [
      "\u001b[0;31m---------------------------------------------------------------------------\u001b[0m",
      "\u001b[0;31mAttributeError\u001b[0m                            Traceback (most recent call last)",
      "\u001b[0;32m<ipython-input-15-146442d95a62>\u001b[0m in \u001b[0;36m<module>\u001b[0;34m()\u001b[0m\n\u001b[0;32m----> 1\u001b[0;31m \u001b[0mr\u001b[0m\u001b[0;34m.\u001b[0m\u001b[0mbatch_hessian\u001b[0m\u001b[0;34m(\u001b[0m\u001b[0ma\u001b[0m\u001b[0;34m)\u001b[0m\u001b[0;34m\u001b[0m\u001b[0;34m\u001b[0m\u001b[0m\n\u001b[0m",
      "\u001b[0;32m/home/amit/Unicycle/main/src/residual_network.py\u001b[0m in \u001b[0;36mbatch_hessian\u001b[0;34m(self, x)\u001b[0m\n\u001b[1;32m    141\u001b[0m         \u001b[0mh\u001b[0m \u001b[0;34m=\u001b[0m \u001b[0;34m[\u001b[0m\u001b[0;34m]\u001b[0m\u001b[0;34m\u001b[0m\u001b[0;34m\u001b[0m\u001b[0m\n\u001b[1;32m    142\u001b[0m         \u001b[0;32mfor\u001b[0m \u001b[0mxyz\u001b[0m \u001b[0;32min\u001b[0m \u001b[0mx\u001b[0m\u001b[0;34m:\u001b[0m\u001b[0;34m\u001b[0m\u001b[0;34m\u001b[0m\u001b[0m\n\u001b[0;32m--> 143\u001b[0;31m             \u001b[0mh\u001b[0m\u001b[0;34m.\u001b[0m\u001b[0mappend\u001b[0m\u001b[0;34m(\u001b[0m\u001b[0mself\u001b[0m\u001b[0;34m.\u001b[0m\u001b[0mhessian_value\u001b[0m\u001b[0;34m(\u001b[0m\u001b[0mxyz\u001b[0m\u001b[0;34m)\u001b[0m\u001b[0;34m)\u001b[0m\u001b[0;34m\u001b[0m\u001b[0;34m\u001b[0m\u001b[0m\n\u001b[0m\u001b[1;32m    144\u001b[0m         \u001b[0;32mreturn\u001b[0m \u001b[0mtorch\u001b[0m\u001b[0;34m.\u001b[0m\u001b[0mstack\u001b[0m\u001b[0;34m(\u001b[0m\u001b[0mh\u001b[0m\u001b[0;34m)\u001b[0m\u001b[0;34m.\u001b[0m\u001b[0msqueeze\u001b[0m\u001b[0;34m(\u001b[0m\u001b[0;34m)\u001b[0m\u001b[0;34m\u001b[0m\u001b[0;34m\u001b[0m\u001b[0m\n\u001b[1;32m    145\u001b[0m \u001b[0;34m\u001b[0m\u001b[0m\n",
      "\u001b[0;32m/home/amit/.local/lib/python3.6/site-packages/torch/nn/modules/module.py\u001b[0m in \u001b[0;36m__getattr__\u001b[0;34m(self, name)\u001b[0m\n\u001b[1;32m    592\u001b[0m                 \u001b[0;32mreturn\u001b[0m \u001b[0mmodules\u001b[0m\u001b[0;34m[\u001b[0m\u001b[0mname\u001b[0m\u001b[0;34m]\u001b[0m\u001b[0;34m\u001b[0m\u001b[0;34m\u001b[0m\u001b[0m\n\u001b[1;32m    593\u001b[0m         raise AttributeError(\"'{}' object has no attribute '{}'\".format(\n\u001b[0;32m--> 594\u001b[0;31m             type(self).__name__, name))\n\u001b[0m\u001b[1;32m    595\u001b[0m \u001b[0;34m\u001b[0m\u001b[0m\n\u001b[1;32m    596\u001b[0m     \u001b[0;32mdef\u001b[0m \u001b[0m__setattr__\u001b[0m\u001b[0;34m(\u001b[0m\u001b[0mself\u001b[0m\u001b[0;34m,\u001b[0m \u001b[0mname\u001b[0m\u001b[0;34m,\u001b[0m \u001b[0mvalue\u001b[0m\u001b[0;34m)\u001b[0m\u001b[0;34m:\u001b[0m\u001b[0;34m\u001b[0m\u001b[0;34m\u001b[0m\u001b[0m\n",
      "\u001b[0;31mAttributeError\u001b[0m: 'ResidualNet' object has no attribute 'hessian_value'"
     ]
    }
   ],
   "source": [
    "r.batch_hessian(a)"
   ]
  },
  {
   "cell_type": "code",
   "execution_count": null,
   "metadata": {},
   "outputs": [],
   "source": []
  }
 ],
 "metadata": {
  "kernelspec": {
   "display_name": "Python 3",
   "language": "python",
   "name": "python3"
  },
  "language_info": {
   "codemirror_mode": {
    "name": "ipython",
    "version": 3
   },
   "file_extension": ".py",
   "mimetype": "text/x-python",
   "name": "python",
   "nbconvert_exporter": "python",
   "pygments_lexer": "ipython3",
   "version": "3.6.9"
  }
 },
 "nbformat": 4,
 "nbformat_minor": 2
}
