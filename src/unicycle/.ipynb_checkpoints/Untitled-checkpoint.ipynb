{
 "cells": [
  {
   "cell_type": "code",
   "execution_count": 80,
   "metadata": {},
   "outputs": [],
   "source": [
    "#%%file terminal_unicycle.py\n",
    "\n",
    "import torch\n",
    "import numpy as np\n",
    "import crocoddyl\n",
    "from value_network import ValueNet\n",
    "from residual_network import ResidualNet\n",
    "from dataset import Datagen\n",
    "\n",
    "class FeedforwardUnicycle(crocoddyl.ActionModelAbstract):\n",
    "    \"\"\"\n",
    "    This includes a feedforward network in crocoddyl\n",
    "    \n",
    "    \"\"\"\n",
    "    def __init__(self, neural_net):\n",
    "        crocoddyl.ActionModelAbstract.__init__(self, crocoddyl.StateVector(3), 2, 5)\n",
    "        self.net = neural_net\n",
    "\n",
    "    def calc(self, data, x, u=None):\n",
    "        if u is None:\n",
    "            u = self.unone\n",
    "            \n",
    "        x = torch.tensor(x, dtype = torch.float32).resize_(1, 3)\n",
    "        \n",
    "        # Get the cost\n",
    "        with torch.no_grad():\n",
    "            data.cost = self.net(x).item()\n",
    "                      \n",
    "\n",
    "\n",
    "    def calcDiff(self, data, x, u=None):\n",
    "        if u is None:\n",
    "            u = self.unone\n",
    "            \n",
    "        # This is irritating. Converting numpy to torch everytime.\n",
    "        x = torch.tensor(x, dtype = torch.float32).resize_(1, 3)\n",
    "        \n",
    "        data.Lx = self.net.jacobian_value(x).detach().numpy()\n",
    "        data.Lxx = self.net.hessian_value(x).detach().numpy()\n",
    "        \n",
    "        \n",
    "class ResidualUnicycle(crocoddyl.ActionModelAbstract):\n",
    "    \"\"\"\n",
    "    This includes the residual network in crocoddyl. An additional param has to added in init\n",
    "    to enable gauus approximation\n",
    "    \n",
    "    \"\"\"\n",
    "    def __init__(self, neural_net, use_gauss_approx=False):\n",
    "        \"\"\"\n",
    "        The neural network is a residual network:\n",
    "            x ---> R**2, where R is the residual matrix.\n",
    "            \n",
    "        @params:\n",
    "            1: neural_net        = must be the residual network\n",
    "            2: use_gauss_approx  = to enable gauss approximation of the gradient and hessian\n",
    "            \n",
    "        A. The gradient(& hessian) needed for data.Lx can be calculated in two ways:\n",
    "            \n",
    "            1:   Calculate the Jacobian of the output of the neural network w.r.t input to get Lx\n",
    "            \n",
    "            1.1: Calculate the Hessian of the output of the neural network w.r.t input to get Lxx\n",
    "            \n",
    "        B. Using Gauss approximation, the gradient and hessians are calculated like so:\n",
    "            1:  Gradient = data.Lx = J.T @ r\n",
    "                                                                          \n",
    "            1.1 Hessian = data.Lxx = J.T @ J,\n",
    "                                       where J is the jacobian of the residual matrix and r is the \n",
    "                                       residual matrix\n",
    "                                       \n",
    "        if A is used, then the activation of the residual network must be tanh()\n",
    "        \"\"\"\n",
    "        \n",
    "        crocoddyl.ActionModelAbstract.__init__(self, crocoddyl.StateVector(3), 2, 5)\n",
    "        self.net = neural_net\n",
    "        self.use_gauss = use_gauss_approx\n",
    "\n",
    "    def calc(self, data, x, u=None):\n",
    "        if u is None:\n",
    "            u = self.unone\n",
    "            \n",
    "        x = torch.tensor(x, dtype = torch.float32).resize_(1, 3)\n",
    "        \n",
    "        # Get the cost\n",
    "        with torch.no_grad():\n",
    "            data.cost = self.net(x).item()\n",
    "                      \n",
    "\n",
    "\n",
    "    def calcDiff(self, data, x, u=None):\n",
    "        if u is None:\n",
    "            u = self.unone\n",
    "            \n",
    "        x = torch.tensor(x, dtype = torch.float32)\n",
    "        \n",
    "        if self.use_gauss:\n",
    "            data.Lx = self.net.gradient(x).detach().numpy()\n",
    "            data.Lxx = self.net.approx_hessian(x).detach().numpy()\n",
    "            \n",
    "        else:\n",
    "            data.Lx = self.net.jacobian_value(x).detach().numpy()\n",
    "            data.Lxx = self.net.hessian_value(x).detach().numpy() \n",
    "\n",
    "        \n",
    "        \n",
    "\n"
   ]
  },
  {
   "cell_type": "code",
   "execution_count": 81,
   "metadata": {},
   "outputs": [],
   "source": [
    "fnet=torch.load(\"../networks/value.pth\")\n",
    "rnet=torch.load(\"../networks/residual.pth\")"
   ]
  },
  {
   "cell_type": "code",
   "execution_count": 85,
   "metadata": {},
   "outputs": [
    {
     "name": "stdout",
     "output_type": "stream",
     "text": [
      " Returning [100] points from the circumference of a circle of radii [2]\n"
     ]
    },
    {
     "data": {
      "text/plain": [
       "7"
      ]
     },
     "execution_count": 85,
     "metadata": {},
     "output_type": "execute_result"
    }
   ],
   "source": [
    "data = Datagen.circular_data()\n",
    "\n",
    "model = crocoddyl.ActionModelUnicycle()\n",
    "terminal = ResidualUnicycle(rnet, use_gauss_approx=False)\n",
    "model.costWeights = np.matrix([1,2]).T\n",
    "problem = crocoddyl.ShootingProblem(data[3].T, [ model ] * 30, terminal)\n",
    "ddp = crocoddyl.SolverDDP(problem)\n",
    "ddp.th_stop = 1e-6\n",
    "ddp.solve()\n",
    "ddp.iter"
   ]
  },
  {
   "cell_type": "code",
   "execution_count": null,
   "metadata": {},
   "outputs": [],
   "source": []
  }
 ],
 "metadata": {
  "kernelspec": {
   "display_name": "Python 3",
   "language": "python",
   "name": "python3"
  },
  "language_info": {
   "codemirror_mode": {
    "name": "ipython",
    "version": 3
   },
   "file_extension": ".py",
   "mimetype": "text/x-python",
   "name": "python",
   "nbconvert_exporter": "python",
   "pygments_lexer": "ipython3",
   "version": "3.6.9"
  }
 },
 "nbformat": 4,
 "nbformat_minor": 2
}
