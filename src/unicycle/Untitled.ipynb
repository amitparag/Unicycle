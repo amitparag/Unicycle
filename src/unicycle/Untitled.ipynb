{
 "cells": [
  {
   "cell_type": "code",
   "execution_count": 81,
   "metadata": {},
   "outputs": [],
   "source": [
    "fnet=torch.load(\"../networks/value.pth\")\n",
    "rnet=torch.load(\"../networks/residual.pth\")"
   ]
  },
  {
   "cell_type": "code",
   "execution_count": 85,
   "metadata": {},
   "outputs": [
    {
     "name": "stdout",
     "output_type": "stream",
     "text": [
      " Returning [100] points from the circumference of a circle of radii [2]\n"
     ]
    },
    {
     "data": {
      "text/plain": [
       "7"
      ]
     },
     "execution_count": 85,
     "metadata": {},
     "output_type": "execute_result"
    }
   ],
   "source": [
    "data = Datagen.circular_data()\n",
    "\n",
    "model = crocoddyl.ActionModelUnicycle()\n",
    "terminal = ResidualUnicycle(rnet, use_gauss_approx=False)\n",
    "model.costWeights = np.matrix([1,2]).T\n",
    "problem = crocoddyl.ShootingProblem(data[3].T, [ model ] * 30, terminal)\n",
    "ddp = crocoddyl.SolverDDP(problem)\n",
    "ddp.th_stop = 1e-6\n",
    "ddp.solve()\n",
    "ddp.iter"
   ]
  },
  {
   "cell_type": "code",
   "execution_count": null,
   "metadata": {},
   "outputs": [],
   "source": []
  }
 ],
 "metadata": {
  "kernelspec": {
   "display_name": "Python 3",
   "language": "python",
   "name": "python3"
  },
  "language_info": {
   "codemirror_mode": {
    "name": "ipython",
    "version": 3
   },
   "file_extension": ".py",
   "mimetype": "text/x-python",
   "name": "python",
   "nbconvert_exporter": "python",
   "pygments_lexer": "ipython3",
   "version": "3.6.9"
  }
 },
 "nbformat": 4,
 "nbformat_minor": 2
}
